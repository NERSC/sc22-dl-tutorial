{
 "cells": [
  {
   "cell_type": "markdown",
   "id": "314d73bf-204b-410b-9b58-4db9a461e1c4",
   "metadata": {},
   "source": [
    "# TensorBoard Launcher\n",
    "\n",
    "This notebook allows you to start TensorBoard on Summit and view it in a normal browser tab.\n",
    "\n",
    "The notebook code below assumes you are using the hands-on tutorial path for tensorboard logs.\n",
    "\n",
    "When you run the cells below, TensorBoard will start but will not display here in the notebook. Instead, the final cell which calls `tb_address()` will display a URL that you can click to open a new tab with TensorBoard."
   ]
  },
  {
   "cell_type": "code",
   "execution_count": 3,
   "id": "9aa0f14d-0542-4315-886c-4134b0ba8673",
   "metadata": {
    "tags": []
   },
   "outputs": [
    {
     "name": "stderr",
     "output_type": "stream",
     "text": [
      "/tmp/ipykernel_244/1904480837.py:4: DeprecationWarning: Importing display from IPython.core.display is deprecated since IPython 7.14, please import from IPython display\n",
      "  from IPython.core.display import display, HTML\n"
     ]
    }
   ],
   "source": [
    "import os, pwd\n",
    "from tensorboard import notebook\n",
    "import getpass\n",
    "from IPython.core.display import display, HTML\n",
    "\n",
    "def get_pid_owner(pid):\n",
    "    # the /proc/PID is owned by process creator\n",
    "    proc_stat_file = os.stat(\"/proc/%d\" % pid)\n",
    "    # get UID via stat call\n",
    "    uid = proc_stat_file.st_uid\n",
    "    # look up the username from uid\n",
    "    username = pwd.getpwuid(uid)[0]\n",
    "    \n",
    "    return username\n",
    "\n",
    "def get_tb_port(username):\n",
    "    \n",
    "    for tb_nb in notebook.manager.get_all():\n",
    "        if get_pid_owner(tb_nb.pid) == username:\n",
    "            return tb_nb.port\n",
    "    \n",
    "def tb_address():\n",
    "    \n",
    "    username = getpass.getuser()\n",
    "    tb_port = get_tb_port(username)\n",
    "    \n",
    "    address = \"https://jupyter.olcf.ornl.gov\" + os.environ['JUPYTERHUB_SERVICE_PREFIX'] + 'proxy/' + str(tb_port) + \"/\"\n",
    "\n",
    "    address = address.strip()\n",
    "    \n",
    "    display(HTML('<a href=\"%s\">%s</a>'%(address,address)))\n",
    "    \n",
    "%load_ext tensorboard  "
   ]
  },
  {
   "cell_type": "code",
   "execution_count": 7,
   "id": "b95365cc-256d-4bbe-800b-26ee2fdca21e",
   "metadata": {
    "tags": []
   },
   "outputs": [],
   "source": [
    "username = os.environ['JUPYTERHUB_USER']\n",
    "log_dir = os.path.expandvars('/gpfs/alpine/stf011/world-shared/%s/sc22-dl-tutorial/logs'%username)"
   ]
  },
  {
   "cell_type": "code",
   "execution_count": 8,
   "id": "c86e34c8-cdd3-4436-8939-f9d24faf80b0",
   "metadata": {
    "tags": []
   },
   "outputs": [],
   "source": [
    "%%capture\n",
    "%tensorboard --logdir $log_dir --port 0"
   ]
  },
  {
   "cell_type": "code",
   "execution_count": 9,
   "id": "dcb87cde-89da-40f8-a985-b09f78f791a5",
   "metadata": {
    "tags": []
   },
   "outputs": [
    {
     "data": {
      "text/html": [
       "<a href=\"https://jupyter.olcf.ornl.gov/user/atsaris/proxy/43281/\">https://jupyter.olcf.ornl.gov/user/atsaris/proxy/43281/</a>"
      ],
      "text/plain": [
       "<IPython.core.display.HTML object>"
      ]
     },
     "metadata": {},
     "output_type": "display_data"
    }
   ],
   "source": [
    "tb_address()"
   ]
  },
  {
   "cell_type": "code",
   "execution_count": null,
   "id": "d0f31cbd-9c26-4905-98f3-d3996a81e422",
   "metadata": {},
   "outputs": [],
   "source": []
  }
 ],
 "metadata": {
  "kernelspec": {
   "display_name": "OLCF-base (ipykernel)",
   "language": "python",
   "name": "python3"
  },
  "language_info": {
   "codemirror_mode": {
    "name": "ipython",
    "version": 3
   },
   "file_extension": ".py",
   "mimetype": "text/x-python",
   "name": "python",
   "nbconvert_exporter": "python",
   "pygments_lexer": "ipython3",
   "version": "3.8.10"
  }
 },
 "nbformat": 4,
 "nbformat_minor": 5
}
